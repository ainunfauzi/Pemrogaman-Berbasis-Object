{
 "cells": [
  {
   "cell_type": "markdown",
   "metadata": {},
   "source": [
    "# TYPE of Inheritance\n",
    "\n",
    "- Default (menggunakan semua property dan method dari oarent class)\n",
    "- Overridding (Mereplace / menggantikan beberapa property atau method di subclass dari parent class)\n",
    "- SuperClass(Penambahan Property dari Parent Class di Sub Class)\n",
    "- Multiple Inheritance (Subclass yang memiliki dua atau lebih Parent Class)"
   ]
  },
  {
   "cell_type": "code",
   "execution_count": null,
   "metadata": {},
   "outputs": [],
   "source": [
    "#Inheritance is when a class uses code constructed within another class. \n",
    "#If we think of inheritance in terms of biology, we can think of a child inheriting certain traits from their parent. That is, a child can inherit a parent’s height or eye color. \n",
    "#Children also may share the same last name with their parents.\n",
    "#(Classes called child classes or subclasses inherit methods and variables from parent classes or base classes.)\n",
    "\n",
    "class User:\n",
    "    def __init__(self,name):\n",
    "        self.name=name\n",
    "    def printname(self):\n",
    "        print(\"First name:\",self.name)\n",
    "class Progammer(User):\n",
    "    def __init__(self,lastname,name): #Child or subclasses are classes that will inherit from the parent class.   \n",
    "        self.lastname=lastname #That means that each child class will be able to make use of the methods and variables of the parent class.\n",
    "        super().__init__(name)\n",
    "    def printlastname(self):\n",
    "        print(\"Last name:\",self.lastname)\n",
    "    def doPython(self):\n",
    "        print(\"progamming python\")\n",
    "        \n",
    "brian=Progammer(\"Brian\",\"Fauzi\")\n",
    "brian.printname()\n",
    "brian.printlastname()\n",
    "brian.doPython()\n",
    "diana=Progammer(\"Diana\",\"Ainun\")\n",
    "diana.printname()\n",
    "diana.printlastname()\n",
    "diana.doPython()"
   ]
  },
  {
   "cell_type": "code",
   "execution_count": 2,
   "metadata": {},
   "outputs": [
    {
     "name": "stdout",
     "output_type": "stream",
     "text": [
      "nama : a\n",
      "nim : 170\n",
      "angkatan : 3\n"
     ]
    }
   ],
   "source": [
    "class Mahasiswa:\n",
    "    def __init__ (self):\n",
    "        nama=input(\"masukkan nama:\")\n",
    "        nrp=input(\"masukkan nrp:\")\n",
    "        self.nama=nama\n",
    "        self.nrp=nrp\n",
    "        self.smt=0\n",
    "    def Semester(self): ##Child or subclasses are classes that will inherit from the parent class.#That means that each child class will be able to make use of the methods and variables of the parent class.\n",
    "        angkatan=self.nrp[0:2]\n",
    "        self.smt=(18-int(angkatan))*2+1\n",
    "        if self.nrp[0:2]==18:\n",
    "            self.smt=1\n",
    "    def Display(self):\n",
    "        Mahasiswa.Semester(self)\n",
    "        print(\"nama :\",self.nama)\n",
    "        print(\"nim :\",self.nrp)\n",
    "        print(\"angkatan :\",self.smt)\n",
    "nun=Mahasiswa()\n",
    "nun.Display()"
   ]
  },
  {
   "cell_type": "code",
   "execution_count": null,
   "metadata": {},
   "outputs": [],
   "source": []
  },
  {
   "cell_type": "code",
   "execution_count": null,
   "metadata": {},
   "outputs": [],
   "source": []
  }
 ],
 "metadata": {
  "kernelspec": {
   "display_name": "Python 3",
   "language": "python",
   "name": "python3"
  },
  "language_info": {
   "codemirror_mode": {
    "name": "ipython",
    "version": 3
   },
   "file_extension": ".py",
   "mimetype": "text/x-python",
   "name": "python",
   "nbconvert_exporter": "python",
   "pygments_lexer": "ipython3",
   "version": "3.6.5"
  }
 },
 "nbformat": 4,
 "nbformat_minor": 2
}
