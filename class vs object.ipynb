{
 "cells": [
  {
   "cell_type": "markdown",
   "metadata": {},
   "source": [
    "# CLASS\n",
    "didalam Class terdapat Beberapa hal yang harus diketahui, antara Lain :\n",
    "\n",
    "    Constructor Constructor adalah Property - property dalam class tersebut untuk membangun sebuah object dalam pembangunan constructor pada lumrahnya dilakukan pada method init(), namun tetap bisa dilakukan deklarasi constructor pada method lainnya. Deklarasi constructor diDeklarasikan dengan memberikan syntax \"self.namaProperty\", yang mempunyai arti self adalah milik dari class itu sendiri\n",
    "    Method Method adalah fungsi atau metode didalam class yang mengolah Property ataupun parameter yang dibutuhkan dalam method\n"
   ]
  },
  {
   "cell_type": "code",
   "execution_count": 4,
   "metadata": {},
   "outputs": [
    {
     "name": "stdout",
     "output_type": "stream",
     "text": [
      "4\n",
      "luas 8\n",
      "lpermukaan 96\n"
     ]
    }
   ],
   "source": [
    "#keyword class diikuti dengan nama class yang kita inginkan. \n",
    "#Lebih baik digunakan kata yang diawali huruf kapital.\n",
    "\n",
    "class Kubus:\n",
    "    def __init__ (self,s): #constructor menggunakan method bawaan Python yang bernama init \n",
    "        self.sisi=s        #Metode __init__() adalah metode konstruktor, yaitu metode khusus yang digunakan Python untuk menginisialisasi pembuatan objek dari kelas tersebut. \n",
    "    def tampilkan (self):\n",
    "        print(self.sisi)\n",
    "    def Luas(self):\n",
    "        print(\"luas\",self.sisi*2)\n",
    "    def Volume(self):\n",
    "        print(\"volume\",self.sisi*3)\n",
    "    def Lpermukaan(self):\n",
    "        print(\"lpermukaan\",self.sisi**2*6)\n",
    "        \n",
    "#Setiap method harus memiliki parameter self yang artinya method tersebut dimiliki dan terdaftar ke class tersebut untuk membedakan dari method atau fungsi yang ada di luar class\n",
    "\n",
    "kl = Kubus (4) #Mengakses Method Objek,menggunakan operator titik\n",
    "kl.tampilkan() #Instansiasi Objek (membuat objek dari sebuah kelas),argumen sesuai dengan fungsi __init__() pada saat kita mendefinisikannya \n",
    "kl.Luas()\n",
    "kl.Lpermukaan()\n",
    "\n",
    "#Struktur data yang bisa kita gunakan untuk mendefinisikan objek yang menyimpan data bersama-sama nilai-nilai dan perilaku (behavior). \n",
    "#Kelas adalah suatu entitas yang merupakan bentuk program dari suatu abstraksi untuk permasalahan dunia nyata, dan instans dari class merupakan realisasi dari beberapa objek.\n",
    "\n",
    "#Instance dari class. Jika class secara umum merepresentasikan (template) sebuah object, maka sebuah instance adalah representasi nyata dari class itu sendiri.\n"
   ]
  },
  {
   "cell_type": "code",
   "execution_count": null,
   "metadata": {},
   "outputs": [],
   "source": [
    "class Mahasiswa:\n",
    "    def bidikmisi(self):\n",
    "        if 3 <= self.ipk <4\n",
    "            print(self.nama,\"dengan nim\",self.nim,\"dapat bidikmisi\")\n",
    "        else:\n",
    "            print(self.nama,\"tidak dapat bidikmisi\")\n",
    "    \n",
    "        \n",
    "        "
   ]
  }
 ],
 "metadata": {
  "kernelspec": {
   "display_name": "Python 3",
   "language": "python",
   "name": "python3"
  },
  "language_info": {
   "codemirror_mode": {
    "name": "ipython",
    "version": 3
   },
   "file_extension": ".py",
   "mimetype": "text/x-python",
   "name": "python",
   "nbconvert_exporter": "python",
   "pygments_lexer": "ipython3",
   "version": "3.6.5"
  }
 },
 "nbformat": 4,
 "nbformat_minor": 2
}
