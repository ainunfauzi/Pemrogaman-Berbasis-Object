{
 "cells": [
  {
   "cell_type": "markdown",
   "metadata": {},
   "source": [
    "# Overloading and Overriding\n",
    "\n",
    "methode overloading : kemampuan yang membolehkan sebuah kelas mempunyai 2 atau lebih method dengan nama yang sama yang memebedakan adalah parameternya\n",
    "perbedaan parameter : jumlah parameter , tipe data , urutan tipe data tiap parameter\n",
    "\n",
    "motode overriding\t: metode yang parent class ditulis kembali dengan subclass\n",
    "aturan : parameter pada metode overiding harus sama dengan parameter pada parent class , aturan hak akses overridng di subclas tidak boleh ketat di bandig kan dengan hak akses mthod pada arent class\n"
   ]
  },
  {
   "cell_type": "markdown",
   "metadata": {},
   "source": [
    "# Overloading Method\n",
    "Operator -----------Expression -----Internally\n",
    "\n",
    "Addition -----------p1 + p2 --------p1.__add__(p2)\n",
    "\n",
    "Subtraction --------p1 - p2 --------p1.__sub__(p2)\n",
    "\n",
    "Multiplication -----p1 * p2 --------p1.__mul__(p2)\n",
    "\n",
    "Power --------------p1 ** p2 -------p1.__pow__(p2)\n",
    "\n",
    "Division -----------p1 / p2 --------p1.__truediv__(p2)\n",
    "\n",
    "Floor Division -----p1 // p2 -------p1.__floordiv__(p2)\n",
    "\n",
    "Remainder (modulo) -p1 % p2 --------p1.__mod__(p2)\n",
    "\n",
    "Bitwise Left Shift -p1 << p2 -------p1.__lshift__(p2)\n",
    "\n",
    "Bitwise Right Shift p1 >> p2 -------p1.__rshift__(p2)\n",
    "\n",
    "Bitwise AND --------p1 & p2 --------p1.__and__(p2)\n",
    "\n",
    "Bitwise OR ---------p1 | p2 --------p1.__or__(p2)\n",
    "\n",
    "Bitwise XOR --------p1 ^ p2 --------p1.__xor__(p2)\n",
    "\n",
    "Bitwise NOT --------~p1 ------------p1.__invert__()"
   ]
  },
  {
   "cell_type": "code",
   "execution_count": null,
   "metadata": {},
   "outputs": [],
   "source": [
    "class fraction :\n",
    "    def __init__(self,top,bottom):\n",
    "        self.num=top\n",
    "        self.den=bottom\n",
    "    #def show(self):\n",
    "    #def print(self.num,\"/\",self.den)\n",
    "    def __str__(self):\n",
    "        return str(self.num)+\"/\"+str(self.den)\n",
    "    def __add__(self,otherfraction):\n",
    "        newnum = self.num*otherfraction.den + self.den*otherfraction.num\n",
    "        newden = self.den*otherfraction.den\n",
    "        return fraction(newnum,newden)\n",
    "    def __mul__(self,otherfraction):\n",
    "        newnum = self.num*otherfraction.den * self.den*otherfraction.num\n",
    "        newden = self.den*otherfraction.den\n",
    "        return fraction(newnum,newden)\n",
    "f1 = fraction(1,4)\n",
    "f2 = fraction(1,2)\n",
    "print(f1 + f2)\n",
    "print(f1 * f2)\n",
    "\n"
   ]
  },
  {
   "cell_type": "code",
   "execution_count": null,
   "metadata": {},
   "outputs": [],
   "source": [
    "class point:\n",
    "    def __init__(self,x=0,y=0):\n",
    "        self.x = x\n",
    "        self.y = y\n",
    "    #def __str__(self):\n",
    "    #   return\"((0),(1))\"format(self.x,self.y)\n",
    "    def __str__(self):\n",
    "        return\"point object is at :(\" + str(self.x)+\",\"+str(self.y)+\")\"\n",
    "    def __add__(self,other):\n",
    "        x = self.x + other.x\n",
    "        y = self.y + other.y\n",
    "        return point(x,y)\n",
    "    def __sub__(self,other):\n",
    "        x = self.x - other.x\n",
    "        if x < 0:\n",
    "            return x * -1\n",
    "        y = self.y - other.y\n",
    "        if y < 0:\n",
    "            return y * -1\n",
    "        return point(x,y)\n",
    "p1 = point(2,3)\n",
    "p2 = point(-1,2)\n",
    "print(p1 + p2)\n",
    "print(p1 - p2)\n",
    "\n"
   ]
  }
 ],
 "metadata": {
  "kernelspec": {
   "display_name": "Python 3",
   "language": "python",
   "name": "python3"
  },
  "language_info": {
   "codemirror_mode": {
    "name": "ipython",
    "version": 3
   },
   "file_extension": ".py",
   "mimetype": "text/x-python",
   "name": "python",
   "nbconvert_exporter": "python",
   "pygments_lexer": "ipython3",
   "version": "3.6.5"
  }
 },
 "nbformat": 4,
 "nbformat_minor": 2
}
