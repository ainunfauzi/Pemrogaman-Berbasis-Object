{
 "cells": [
  {
   "cell_type": "markdown",
   "metadata": {},
   "source": [
    "# POLYMORPHISME\n",
    "Same function different behaviour\n",
    "\n",
    "Sometimes an object comes in many types or forms. If we have a button, there are many different draw outputs (round button, check button, square button, button with image) but they do share the same logic: onClick().  We access them using the same method . \n",
    "This idea is called Polymorphism.\n",
    "\n",
    "## abstract class\n",
    "an abstract class called document.  This class does not have any implementation but defines the structure (in form of functions) that all forms must have.   \n",
    "If we define the function show()  then both the PdfDocument and WordDocument must have the show() function. \n"
   ]
  },
  {
   "cell_type": "code",
   "execution_count": null,
   "metadata": {},
   "outputs": [],
   "source": [
    "class Kategori_Barang:\n",
    "    def __init__(self,kode,deskripsi):\n",
    "        self.kode=kode\n",
    "        self.deskripsi=deskripsi\n",
    "    def TampilKode(self):\n",
    "        print ('kode\\t\\t:',self.kode)\n",
    "    def TampilKategori(self):\n",
    "        print ('deskripsi\\t:',self.deskripsi)\n",
    "\n",
    "class Barang(Kategori_Barang):\n",
    "    def __init__(self,kode,deskripsi,nama,harga,diskon):\n",
    "        Kategori_Barang.__init__(self,kode,deskripsi)\n",
    "        self.nama=nama\n",
    "        self.harga=harga\n",
    "        self.diskon=diskon\n",
    "    def display(self):\n",
    "        raise NotImplementedError(\"sub class smust implement abstract methode\") #abstract class\n",
    "class Makanan(Barang): #create a function that can take any object, allowing for polymorphism.\n",
    "    def __init__(self,kode,deskripsi,nama,harga,diskon,ExDate):\n",
    "        Barang.__init__(self,kode, deskripsi,nama,harga,diskon)\n",
    "        self.ExDate=ExDate\n",
    "    def display(self):\n",
    "        self.TampilKode()\n",
    "        self.TampilKategori()\n",
    "        print ('nama\\t\\t:',self.nama,'\\nharga\\t\\t:',self.harga,'\\ndiskon\\t\\t:',self.diskon,'\\nExDate\\t\\t:',self.ExDate)\n",
    "class Pakaian(Barang):\n",
    "    def __init__(self,kode,deskripsi,nama,harga,diskon,ukuran):\n",
    "        Barang.__init__(self,kode, deskripsi,nama,harga,diskon)\n",
    "        self.ukuran=ukuran\n",
    "    def display(self):\n",
    "        self.TampilKode()\n",
    "        self.TampilKategori()\n",
    "        print ('nama\\t\\t:',self.nama,'\\nharga\\t\\t:',self.harga,'\\ndikon\\t\\t:',self.diskon,'\\nUkuran\\t\\t:',self.ukuran)\n",
    "        \n",
    "\n",
    "print ('###with a function###\\n')\n",
    "def belanja(item):\n",
    "    item.display()\n",
    "item1=Makanan('001','gorengan','bakwan','1000','50','01-02-2019')\n",
    "item2=Pakaian('0001','baju','hem','50000','3000','L')\n",
    "belanja(item1)\n",
    "print ()\n",
    "belanja(item2)\n",
    "print ()\n",
    "\n",
    "print ('###with a class method###\\n')\n",
    "item1=Makanan('001','gorengan','bakwan','1000','50','01-02-2019')\n",
    "item2=Pakaian('0001','baju','hem','50000','3000','L')\n",
    "for belanja in (item1,item2):\n",
    "    belanja.display()\n",
    "    print ()\n",
    "\n"
   ]
  }
 ],
 "metadata": {
  "kernelspec": {
   "display_name": "Python 3",
   "language": "python",
   "name": "python3"
  },
  "language_info": {
   "codemirror_mode": {
    "name": "ipython",
    "version": 3
   },
   "file_extension": ".py",
   "mimetype": "text/x-python",
   "name": "python",
   "nbconvert_exporter": "python",
   "pygments_lexer": "ipython3",
   "version": "3.6.5"
  }
 },
 "nbformat": 4,
 "nbformat_minor": 2
}
