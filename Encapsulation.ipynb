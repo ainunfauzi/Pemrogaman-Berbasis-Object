{
 "cells": [
  {
   "cell_type": "markdown",
   "metadata": {},
   "source": [
    "# ENCAPSULATION\n",
    "Class\n",
    "Member Variable & Function\t\tprivate : restricted acces from outside class\n",
    "Member Variable & Function\t\tpublic : can acces anywhere throught class object\n",
    "\n",
    "ex:\n",
    "class Robot(object):\n",
    "\n",
    "   def __init__(self):\n",
    "   \n",
    "      self.a = 123\n",
    "      \n",
    "      self._b = 123\n",
    "      \n",
    "      self.__c = 123\n",
    "\n",
    "obj = Robot()\n",
    "\n",
    "print(obj.a)\n",
    "\n",
    "print(obj._b)\n",
    "\n",
    "print(obj.__c)\n"
   ]
  },
  {
   "cell_type": "code",
   "execution_count": 1,
   "metadata": {},
   "outputs": [
    {
     "name": "stdout",
     "output_type": "stream",
     "text": [
      "This is a public method\n",
      "This is a private method\n",
      "This is another private Method\n"
     ]
    }
   ],
   "source": [
    "class A(object):\n",
    "\t# public method\n",
    "\tdef myPublicMethod(self):\n",
    "\t\treturn \"This is a public method\"\n",
    "\n",
    "\t# private method with single _underscore\n",
    "\tdef _myPrivateMethod(self):\n",
    "\t\treturn \"This is a private method\"\n",
    "\n",
    "\t# private metod with double __undersore\n",
    "\tdef __myAnotherPrivateMethod(self):\n",
    "\t\treturn \"This is another private Method\"\n",
    "\n",
    "\n",
    "obj = A()\n",
    "# We can access the public method which is cool !!!\n",
    "print(obj.myPublicMethod())   #Output : This is a public method\n",
    "\n",
    "# Note that we can also access the private method from outside\n",
    "print(obj._myPrivateMethod()) #Output : This is a private method\n",
    "\n",
    "# However, You can still call the double underscore method\n",
    "# by appending the _class name before method name\n",
    "print(obj._A__myAnotherPrivateMethod()) #Output:This is another private Method\n"
   ]
  },
  {
   "cell_type": "code",
   "execution_count": null,
   "metadata": {},
   "outputs": [],
   "source": [
    "class Mahasiswa:\n",
    "    __jumlah=0\n",
    "    \n",
    "    def __init__ (self):\n",
    "        nama=input(\"nama :\")\n",
    "        nrp=input(\"nim :\")\n",
    "        self.__nama=nama\n",
    "        self.__nrp=nrp\n",
    "        self.__smt=0\n",
    "    def Semester(self):\n",
    "        angkatan=self.__nrp[0:2]\n",
    "        self.__smt=(18-int(angkatan))*2+1\n",
    "        if self.__nrp[0:2]==18:\n",
    "            self.__smt=1\n",
    "    def Display(self):\n",
    "        Mahasiswa.Semester(self)\n",
    "        print(\"nama :\",self.__nama)\n",
    "        print(\"nim :\",self.__nrp)\n",
    "        print(\"semester :\",self.__smt)\n",
    "        print(\"jumlah\"+str(self.__jumlah))\n",
    "    def total(self,semua):\n",
    "        self.__jumlah=semua\n",
    "\n",
    "nun=Mahasiswa()\n",
    "nun.Display()\n",
    "nun.total(2)\n",
    "nun.Display()"
   ]
  },
  {
   "cell_type": "code",
   "execution_count": null,
   "metadata": {},
   "outputs": [],
   "source": [
    "class Mahasiswa:\n",
    "    def __init__ (self):\n",
    "        self.__updatenama()\n",
    "    def Semester(self):\n",
    "        print(\"mulai kuliah\")\n",
    "    def __updatenama(self):\n",
    "        print(\"ainun\")\n",
    "        \n",
    "\n",
    "nun=Mahasiswa()\n",
    "nun.Semester()\n",
    "nun._Mahasiswa__updatenama()\n"
   ]
  },
  {
   "cell_type": "markdown",
   "metadata": {},
   "source": [
    "kita dapat membatasi akses ke metode dan variabel. Ini mencegah data dari modifikasi langsung yang disebut enkapsulasi\n",
    "Konsep ini sedikit rumit untuk dijelaskan dengan contoh kita. Kaki kami diikat untuk membantu kami berjalan. Tangan kami, bantu kami memegang sesuatu. Pengikatan properti ke fungsi ini disebut Enkapsulasi.\n",
    "Ini menyembunyikan rincian pelaksanaan [tidak diperlukan untuk mengetahui] ini disebut enkapsulasi."
   ]
  },
  {
   "cell_type": "code",
   "execution_count": null,
   "metadata": {},
   "outputs": [],
   "source": []
  }
 ],
 "metadata": {
  "kernelspec": {
   "display_name": "Python 3",
   "language": "python",
   "name": "python3"
  },
  "language_info": {
   "codemirror_mode": {
    "name": "ipython",
    "version": 3
   },
   "file_extension": ".py",
   "mimetype": "text/x-python",
   "name": "python",
   "nbconvert_exporter": "python",
   "pygments_lexer": "ipython3",
   "version": "3.6.5"
  }
 },
 "nbformat": 4,
 "nbformat_minor": 2
}
